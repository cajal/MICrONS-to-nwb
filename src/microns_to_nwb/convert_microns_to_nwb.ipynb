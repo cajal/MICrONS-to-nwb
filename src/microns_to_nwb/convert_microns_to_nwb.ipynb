{
 "cells": [
  {
   "cell_type": "code",
   "execution_count": null,
   "id": "b2ccdf8f-86b9-476e-8b8f-88548149a867",
   "metadata": {},
   "outputs": [],
   "source": [
    "# %%capture\n",
    "# %pip install roiextractors\n",
    "# %pip install neuroconv==0.2.4\n",
    "# %pip install tifffile\n",
    "# %pip install opencv-python-headless"
   ]
  },
  {
   "cell_type": "code",
   "execution_count": 1,
   "id": "d90c4b02-91ef-4f67-8544-b7eb9324748d",
   "metadata": {},
   "outputs": [
    {
     "name": "stdout",
     "output_type": "stream",
     "text": [
      "Connecting microns@db.datajoint.com:3306\n"
     ]
    },
    {
     "name": "stderr",
     "output_type": "stream",
     "text": [
      "Could not create the ~log table\n",
      "Could not access table `microns_phase3_nda`.`~log`\n",
      "/usr/local/lib/python3.8/site-packages/tqdm/auto.py:21: TqdmWarning: IProgress not found. Please update jupyter and ipywidgets. See https://ipywidgets.readthedocs.io/en/stable/user_install.html\n",
      "  from .autonotebook import tqdm as notebook_tqdm\n",
      "Could not create the ~log table\n",
      "Could not access table `microns_phase3_nda`.`~log`\n"
     ]
    }
   ],
   "source": [
    "from microns_phase3 import nda\n",
    "from pathlib import Path\n",
    "import os\n",
    "from microns_to_nwb.convert_session import convert_session, parallel_convert_sessions"
   ]
  },
  {
   "cell_type": "code",
   "execution_count": 2,
   "id": "7561cbf0-de21-4293-9cf4-e1e91c01ef9f",
   "metadata": {},
   "outputs": [],
   "source": [
    "# Source data file paths\n",
    "scan_keys = list(nda.Scan.proj())\n",
    "\n",
    "# The list of file paths to the downloaded imaging data, one per scan\n",
    "ophys_file_version = 2\n",
    "ophys_file_directory = f\"/mnt/at-export01/17797-export/two_photon_functional_scans/v{ophys_file_version}/\"\n",
    "ophys_file_paths = [Path(ophys_file_directory + '_'.join(['functional','scan','17797',\n",
    "                                                         *[str(s) for s in scan_key.values()],\n",
    "                                                         'v'+str(ophys_file_version)+'.tif'])) \n",
    "                    for scan_key in scan_keys]\n",
    "\n",
    "# The list of file paths to the downloaded stimulus movie files, one per scan\n",
    "movie_file_version = 4\n",
    "movie_file_directory = f\"/mnt/at-export01/17797-export/stimulus_movies/v{movie_file_version}/\"\n",
    "movie_file_paths = [Path(movie_file_directory + '_'.join(['stimulus','17797',\n",
    "                                                         *[str(s) for s in scan_key.values()],\n",
    "                                                         'v'+str(movie_file_version)+'.avi'])) \n",
    "                    for scan_key in scan_keys]\n",
    "\n",
    "# target file path where NWB files will be written\n",
    "nwb_output_path = Path(\"/mnt/at-export01/17797-export/DANDI_NWB/\")\n",
    "nwbfile_list = [nwb_output_path / ophys_file_path.stem / f\"{ophys_file_path.stem}.nwb\" for ophys_file_path in ophys_file_paths]\n",
    "\n",
    "# create subdirectories for NWB files\n",
    "nwbfile_folder_paths = [nwb_output_path / ophys_file_path.stem for ophys_file_path in ophys_file_paths]\n",
    "_ = [os.makedirs(nwbfile_folder_path, exist_ok=True) for nwbfile_folder_path in nwbfile_folder_paths]"
   ]
  },
  {
   "cell_type": "code",
   "execution_count": 3,
   "id": "450db5ab-6b28-4ec4-9b6c-20e323cd64d5",
   "metadata": {},
   "outputs": [
    {
     "name": "stdout",
     "output_type": "stream",
     "text": [
      "Name: neuroconv\n",
      "Version: 0.2.4\n",
      "Summary: Convert data from proprietary formats to NWB format.\n",
      "Home-page: https://github.com/catalystneuro/neuroconv\n",
      "Author: Cody Baker, Szonja Weigl, Heberto Mayorquin, Luiz Tauffer, and Ben Dichter.\n",
      "Author-email: ben.dichter@catalystneuro.com\n",
      "License: UNKNOWN\n",
      "Location: /usr/local/lib/python3.8/site-packages\n",
      "Requires: dandi, h5py, hdmf, jsonschema, numpy, pandas, psutil, pynwb, PyYAML, scipy, tqdm\n",
      "Required-by: microns-to-nwb\n",
      "Note: you may need to restart the kernel to use updated packages.\n"
     ]
    }
   ],
   "source": [
    "%pip show neuroconv"
   ]
  },
  {
   "cell_type": "code",
   "execution_count": 4,
   "id": "9f5362df-866e-47e4-b02c-ec36d6ab00a9",
   "metadata": {},
   "outputs": [
    {
     "name": "stderr",
     "output_type": "stream",
     "text": [
      "/mnt/lab/users/Paul/git_repos/MICrONS-to-nwb/src/microns_to_nwb/convert_session.py:60: UserWarning: Writing behavior data to NWB with negative timestamps is not recommended,times are shifted to the earliest behavioral timestamp by 10.14944010375001 seconds.\n",
      "  warn(\n",
      "/usr/local/lib/python3.8/site-packages/pynwb/file.py:471: UserWarning: Date is missing timezone information. Updating to local timezone.\n",
      "  args_to_set['session_start_time'] = _add_missing_timezone(session_start_time)\n",
      "Using deprecated pyarrow serialization method, please upgrade CAVEClient>=5.9.0 with pip install --upgrade caveclient\n"
     ]
    },
    {
     "name": "stdout",
     "output_type": "stream",
     "text": [
      "Behavior, trials, and Fluorescence traces are added from datajoint.\n",
      "Source data is valid!\n",
      "Metadata is valid!\n",
      "conversion_options is valid!\n"
     ]
    },
    {
     "name": "stderr",
     "output_type": "stream",
     "text": [
      "/mnt/lab/users/Paul/git_repos/MICrONS-to-nwb/src/microns_to_nwb/convert_session.py:127: UserWarning: There was an error during conversion. The source files are not removed. The full traceback: 'nwbfile_path' exists at location, 'overwrite' is False (append mode), but an in-memory 'nwbfile' object was passed! Cannot reconcile which nwbfile object to write.\n",
      "  warn(f\"There was an error during conversion. The source files are not removed. The full traceback: {e}\")\n"
     ]
    },
    {
     "name": "stdout",
     "output_type": "stream",
     "text": [
      "Cleaning up ...\n"
     ]
    },
    {
     "ename": "FileNotFoundError",
     "evalue": "[Errno 2] No such file or directory: '/mnt/at-export01/17797-export/two_photon_functional_scans/v2/functional_scan_17797_4_7_v2.tif'",
     "output_type": "error",
     "traceback": [
      "\u001b[0;31m---------------------------------------------------------------------------\u001b[0m",
      "\u001b[0;31mFileNotFoundError\u001b[0m                         Traceback (most recent call last)",
      "Cell \u001b[0;32mIn[4], line 1\u001b[0m\n\u001b[0;32m----> 1\u001b[0m \u001b[43mconvert_session\u001b[49m\u001b[43m(\u001b[49m\u001b[43mnwbfile_path\u001b[49m\u001b[43m \u001b[49m\u001b[38;5;241;43m=\u001b[39;49m\u001b[43m \u001b[49m\u001b[43mnwbfile_list\u001b[49m\u001b[43m[\u001b[49m\u001b[38;5;241;43m0\u001b[39;49m\u001b[43m]\u001b[49m\u001b[43m,\u001b[49m\n\u001b[1;32m      2\u001b[0m \u001b[43m                \u001b[49m\u001b[43mophys_file_path\u001b[49m\u001b[43m \u001b[49m\u001b[38;5;241;43m=\u001b[39;49m\u001b[43m \u001b[49m\u001b[38;5;28;43mstr\u001b[39;49m\u001b[43m(\u001b[49m\u001b[43mophys_file_paths\u001b[49m\u001b[43m[\u001b[49m\u001b[38;5;241;43m0\u001b[39;49m\u001b[43m]\u001b[49m\u001b[43m)\u001b[49m\u001b[43m,\u001b[49m\n\u001b[1;32m      3\u001b[0m \u001b[43m                \u001b[49m\u001b[43mstimulus_movie_file_path\u001b[49m\u001b[43m \u001b[49m\u001b[38;5;241;43m=\u001b[39;49m\u001b[43m \u001b[49m\u001b[38;5;28;43mstr\u001b[39;49m\u001b[43m(\u001b[49m\u001b[43mmovie_file_paths\u001b[49m\u001b[43m[\u001b[49m\u001b[38;5;241;43m0\u001b[39;49m\u001b[43m]\u001b[49m\u001b[43m)\u001b[49m\u001b[43m,\u001b[49m\n\u001b[1;32m      4\u001b[0m \u001b[43m                \u001b[49m\u001b[43mdandiset_id\u001b[49m\u001b[43m \u001b[49m\u001b[38;5;241;43m=\u001b[39;49m\u001b[43m \u001b[49m\u001b[38;5;28;43;01mNone\u001b[39;49;00m\u001b[43m,\u001b[49m\n\u001b[1;32m      5\u001b[0m \u001b[43m                \u001b[49m\u001b[43mverbose\u001b[49m\u001b[38;5;241;43m=\u001b[39;49m\u001b[38;5;28;43;01mTrue\u001b[39;49;00m\u001b[43m)\u001b[49m\n",
      "File \u001b[0;32m/mnt/lab/users/Paul/git_repos/MICrONS-to-nwb/src/microns_to_nwb/convert_session.py:145\u001b[0m, in \u001b[0;36mconvert_session\u001b[0;34m(nwbfile_path, ophys_file_path, stimulus_movie_file_path, dandiset_id, verbose)\u001b[0m\n\u001b[1;32m    143\u001b[0m \u001b[38;5;28;01mif\u001b[39;00m verbose:\n\u001b[1;32m    144\u001b[0m     \u001b[38;5;28mprint\u001b[39m(\u001b[38;5;124m\"\u001b[39m\u001b[38;5;124mCleaning up ...\u001b[39m\u001b[38;5;124m\"\u001b[39m)\n\u001b[0;32m--> 145\u001b[0m \u001b[43mPath\u001b[49m\u001b[43m(\u001b[49m\u001b[43mophys_file_path\u001b[49m\u001b[43m)\u001b[49m\u001b[38;5;241;43m.\u001b[39;49m\u001b[43munlink\u001b[49m\u001b[43m(\u001b[49m\u001b[43m)\u001b[49m\n\u001b[1;32m    146\u001b[0m Path(stimulus_movie_file_path)\u001b[38;5;241m.\u001b[39munlink()\n",
      "File \u001b[0;32m/usr/local/lib/python3.8/pathlib.py:1325\u001b[0m, in \u001b[0;36mPath.unlink\u001b[0;34m(self, missing_ok)\u001b[0m\n\u001b[1;32m   1323\u001b[0m     \u001b[38;5;28mself\u001b[39m\u001b[38;5;241m.\u001b[39m_raise_closed()\n\u001b[1;32m   1324\u001b[0m \u001b[38;5;28;01mtry\u001b[39;00m:\n\u001b[0;32m-> 1325\u001b[0m     \u001b[38;5;28;43mself\u001b[39;49m\u001b[38;5;241;43m.\u001b[39;49m\u001b[43m_accessor\u001b[49m\u001b[38;5;241;43m.\u001b[39;49m\u001b[43munlink\u001b[49m\u001b[43m(\u001b[49m\u001b[38;5;28;43mself\u001b[39;49m\u001b[43m)\u001b[49m\n\u001b[1;32m   1326\u001b[0m \u001b[38;5;28;01mexcept\u001b[39;00m \u001b[38;5;167;01mFileNotFoundError\u001b[39;00m:\n\u001b[1;32m   1327\u001b[0m     \u001b[38;5;28;01mif\u001b[39;00m \u001b[38;5;129;01mnot\u001b[39;00m missing_ok:\n",
      "\u001b[0;31mFileNotFoundError\u001b[0m: [Errno 2] No such file or directory: '/mnt/at-export01/17797-export/two_photon_functional_scans/v2/functional_scan_17797_4_7_v2.tif'"
     ]
    }
   ],
   "source": [
    "convert_session(nwbfile_path = nwbfile_list[0],\n",
    "                ophys_file_path = str(ophys_file_paths[0]),\n",
    "                stimulus_movie_file_path = str(movie_file_paths[0]),\n",
    "                dandiset_id = None,\n",
    "                verbose=True)"
   ]
  },
  {
   "cell_type": "code",
   "execution_count": 6,
   "id": "695110f7-0623-456f-9980-6ec254a4b0ae",
   "metadata": {},
   "outputs": [],
   "source": [
    "# parallel_convert_sessions(\n",
    "#     num_parallel_jobs = len(ophys_file_paths),\n",
    "#     nwbfile_list = nwbfile_list,\n",
    "#     ophys_file_paths = ophys_file_paths,\n",
    "#     stimulus_movie_file_paths = movie_file_paths,\n",
    "#     dandiset_id = None,\n",
    "#     )"
   ]
  }
 ],
 "metadata": {
  "kernelspec": {
   "display_name": "Python 3 (ipykernel)",
   "language": "python",
   "name": "python3"
  },
  "language_info": {
   "codemirror_mode": {
    "name": "ipython",
    "version": 3
   },
   "file_extension": ".py",
   "mimetype": "text/x-python",
   "name": "python",
   "nbconvert_exporter": "python",
   "pygments_lexer": "ipython3",
   "version": "3.8.18"
  }
 },
 "nbformat": 4,
 "nbformat_minor": 5
}
