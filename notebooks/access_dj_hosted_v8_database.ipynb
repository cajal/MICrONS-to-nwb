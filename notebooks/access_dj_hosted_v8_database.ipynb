{
 "cells": [
  {
   "cell_type": "markdown",
   "id": "93ceda74-1d2f-4f5b-8ee3-79b2847bf8ee",
   "metadata": {},
   "source": [
    "# v8 Database access\n",
    "Ensure DJ_HOST, DJ_USER, and DJ_PASS are defined in your .env"
   ]
  },
  {
   "cell_type": "code",
   "execution_count": 1,
   "id": "bcb7de50-8d1f-4536-b579-769a978e8c23",
   "metadata": {},
   "outputs": [],
   "source": [
    "import datajoint as dj"
   ]
  },
  {
   "cell_type": "code",
   "execution_count": 2,
   "id": "9bcac8a8-7191-45f3-8271-8d0e40a94eaf",
   "metadata": {},
   "outputs": [
    {
     "name": "stdout",
     "output_type": "stream",
     "text": [
      "Connecting microns@db.datajoint.com:3306\n"
     ]
    }
   ],
   "source": [
    "nda = dj.create_virtual_module('nda', 'microns_phase3_nda')"
   ]
  },
  {
   "cell_type": "markdown",
   "id": "6163b54f-33b9-4c7b-89e5-9646453572ca",
   "metadata": {},
   "source": [
    "# CAVEclient access\n",
    "\n",
    "Ensure CLOUDVOLUME_TOKEN is defined in .env, and you have the appropriate permissions."
   ]
  },
  {
   "cell_type": "code",
   "execution_count": 3,
   "id": "26a3785b-1e49-4c46-b2c0-404643f901e9",
   "metadata": {},
   "outputs": [],
   "source": [
    "from caveclient import CAVEclient"
   ]
  },
  {
   "cell_type": "code",
   "execution_count": 4,
   "id": "ace329e2-7972-4ece-8174-05dc6d62d20f",
   "metadata": {},
   "outputs": [],
   "source": [
    "datastack = 'minnie65_phase3_v1'\n",
    "datastack = 'minnie65_public' # no additional permissions required"
   ]
  },
  {
   "cell_type": "code",
   "execution_count": 5,
   "id": "e0960f42-b501-4d22-897f-6dae8894f732",
   "metadata": {},
   "outputs": [],
   "source": [
    "client = CAVEclient(datastack)"
   ]
  }
 ],
 "metadata": {
  "kernelspec": {
   "display_name": "Python 3 (ipykernel)",
   "language": "python",
   "name": "python3"
  },
  "language_info": {
   "codemirror_mode": {
    "name": "ipython",
    "version": 3
   },
   "file_extension": ".py",
   "mimetype": "text/x-python",
   "name": "python",
   "nbconvert_exporter": "python",
   "pygments_lexer": "ipython3",
   "version": "3.8.18"
  }
 },
 "nbformat": 4,
 "nbformat_minor": 5
}
