{
 "cells": [
  {
   "cell_type": "markdown",
   "id": "c8d038a0",
   "metadata": {
    "pycharm": {
     "name": "#%% md\n"
    }
   },
   "source": [
    "# Converting MICrONS to NWB\n",
    "\n",
    "This notebook converts the 2p data from [the MICrONS dataset](https://www.microns-explorer.org/) to NWB.\n",
    "\n",
    "## Setup\n",
    "The notebook needs to be run on https://codebook.datajoint.io/ using the \"IARPA MICrONS Program\" Sever Option\n",
    "\n",
    "\n",
    "## Progress\n",
    "- [x] Eye tracking\n",
    "    - [x] Minor and major radius\n",
    "    - [x] Eye position (x, y)\n",
    "- [x] Treadmill velocity\n",
    "- [x] Trials\n",
    "    - [x] Start and stop times\n",
    "    - [x] Stimulus type\n",
    "    - [x] Condition hash\n",
    "- [x] ROI masks\n",
    "- [x] Fluorescence traces\n",
    "- [x] Summary images\n",
    "- [x] Microscope metadata\n",
    "- [ ] Raw 2p data\n",
    "- [x] Stimulus movie (need more RAM)\n",
    "- [ ] Mapping to EM data\n",
    "- [ ] Subject and session metadata\n",
    "    - [ ] datetime of session\n",
    "    - [ ] age, sex, and ID of mouse"
   ]
  },
  {
   "cell_type": "code",
   "execution_count": null,
   "id": "47b8db6f-d6dd-4b3d-a31f-dbec70df1ac2",
   "metadata": {},
   "outputs": [],
   "source": [
    "!pip install pynwb"
   ]
  },
  {
   "cell_type": "code",
   "execution_count": null,
   "id": "60529a3d-060c-47bd-a1c2-882c0bed0667",
   "metadata": {
    "pycharm": {
     "name": "#%%\n"
    }
   },
   "outputs": [],
   "source": [
    "from microns_to_nwb.convert_microns_to_nwb import build_nwb\n",
    "from pynwb import NWBHDF5IO\n",
    "\n",
    "scan_key = {'session': 4, 'scan_idx': 7}\n",
    "\n",
    "nwbfile = build_nwb(scan_key)\n"
   ]
  },
  {
   "cell_type": "code",
   "execution_count": null,
   "outputs": [],
   "source": [
    "subject_id = \"17797\"\n",
    "nwbfile_path = f\"{subject_id}_{scan_key['session']}_{scan_key['scan_idx']}.nwb\"\n",
    "with NWBHDF5IO(nwbfile_path, \"w\") as io:\n",
    "    io.write(nwbfile)"
   ],
   "metadata": {
    "collapsed": false,
    "pycharm": {
     "name": "#%%\n"
    }
   }
  }
 ],
 "metadata": {
  "kernelspec": {
   "display_name": "Python 3 (ipykernel)",
   "language": "python",
   "name": "python3"
  },
  "language_info": {
   "codemirror_mode": {
    "name": "ipython",
    "version": 3
   },
   "file_extension": ".py",
   "mimetype": "text/x-python",
   "name": "python",
   "nbconvert_exporter": "python",
   "pygments_lexer": "ipython3",
   "version": "3.9.5"
  }
 },
 "nbformat": 4,
 "nbformat_minor": 5
}
