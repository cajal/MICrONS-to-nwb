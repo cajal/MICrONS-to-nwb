{
 "cells": [
  {
   "cell_type": "markdown",
   "id": "c8d038a0",
   "metadata": {
    "pycharm": {
     "name": "#%% md\n"
    }
   },
   "source": [
    "# Converting MICrONS to NWB\n",
    "\n",
    "This notebook converts the 2p data from [the MICrONS dataset](https://www.microns-explorer.org/) to NWB.\n",
    "\n",
    "## Setup\n",
    "The notebook needs to be run on https://codebook.datajoint.io/ using the \"IARPA MICrONS Program\" Sever Option\n",
    "\n",
    "\n",
    "## Progress\n",
    "- [x] Eye tracking\n",
    "    - [x] Minor and major radius\n",
    "    - [x] Eye position (x, y)\n",
    "- [x] Treadmill velocity\n",
    "- [x] Trials\n",
    "    - [x] Start and stop times\n",
    "    - [x] Stimulus type\n",
    "    - [x] Condition hash\n",
    "- [x] ROI masks\n",
    "- [x] Fluorescence traces\n",
    "- [x] Summary images\n",
    "- [x] Microscope metadata\n",
    "- [ ] Raw 2p data\n",
    "- [x] Stimulus movie (need more RAM)\n",
    "- [ ] Mapping to EM data\n",
    "- [ ] Subject and session metadata\n",
    "    - [ ] datetime of session\n",
    "    - [ ] age, sex, and ID of mouse"
   ]
  },
  {
   "cell_type": "code",
   "execution_count": 1,
   "id": "47b8db6f-d6dd-4b3d-a31f-dbec70df1ac2",
   "metadata": {},
   "outputs": [
    {
     "name": "stdout",
     "output_type": "stream",
     "text": [
      "Requirement already satisfied: pynwb in /usr/local/lib/python3.8/site-packages (2.5.0)\n",
      "Requirement already satisfied: h5py>=2.10 in /usr/local/lib/python3.8/site-packages (from pynwb) (3.10.0)\n",
      "Requirement already satisfied: numpy>=1.16 in /usr/local/lib/python3.8/site-packages (from pynwb) (1.24.3)\n",
      "Requirement already satisfied: pandas>=1.1.5 in /usr/local/lib/python3.8/site-packages (from pynwb) (2.0.2)\n",
      "Requirement already satisfied: hdmf>=3.9.0 in /usr/local/lib/python3.8/site-packages (from pynwb) (3.11.0)\n",
      "Requirement already satisfied: setuptools in /usr/local/lib/python3.8/site-packages (from pynwb) (57.5.0)\n",
      "Requirement already satisfied: python-dateutil>=2.7.3 in /usr/local/lib/python3.8/site-packages (from pynwb) (2.8.2)\n",
      "Requirement already satisfied: scipy>=1.4 in /usr/local/lib/python3.8/site-packages (from hdmf>=3.9.0->pynwb) (1.10.1)\n",
      "Requirement already satisfied: importlib-resources in /usr/local/lib/python3.8/site-packages (from hdmf>=3.9.0->pynwb) (6.1.1)\n",
      "Requirement already satisfied: ruamel-yaml>=0.16 in /usr/local/lib/python3.8/site-packages (from hdmf>=3.9.0->pynwb) (0.18.5)\n",
      "Requirement already satisfied: jsonschema>=2.6.0 in /usr/local/lib/python3.8/site-packages (from hdmf>=3.9.0->pynwb) (4.19.2)\n",
      "Requirement already satisfied: pytz>=2020.1 in /usr/local/lib/python3.8/site-packages (from pandas>=1.1.5->pynwb) (2023.3.post1)\n",
      "Requirement already satisfied: tzdata>=2022.1 in /usr/local/lib/python3.8/site-packages (from pandas>=1.1.5->pynwb) (2023.3)\n",
      "Requirement already satisfied: six>=1.5 in /usr/local/lib/python3.8/site-packages (from python-dateutil>=2.7.3->pynwb) (1.16.0)\n",
      "Requirement already satisfied: referencing>=0.28.4 in /usr/local/lib/python3.8/site-packages (from jsonschema>=2.6.0->hdmf>=3.9.0->pynwb) (0.30.2)\n",
      "Requirement already satisfied: jsonschema-specifications>=2023.03.6 in /usr/local/lib/python3.8/site-packages (from jsonschema>=2.6.0->hdmf>=3.9.0->pynwb) (2023.7.1)\n",
      "Requirement already satisfied: rpds-py>=0.7.1 in /usr/local/lib/python3.8/site-packages (from jsonschema>=2.6.0->hdmf>=3.9.0->pynwb) (0.12.0)\n",
      "Requirement already satisfied: attrs>=22.2.0 in /usr/local/lib/python3.8/site-packages (from jsonschema>=2.6.0->hdmf>=3.9.0->pynwb) (23.1.0)\n",
      "Requirement already satisfied: pkgutil-resolve-name>=1.3.10 in /usr/local/lib/python3.8/site-packages (from jsonschema>=2.6.0->hdmf>=3.9.0->pynwb) (1.3.10)\n",
      "Requirement already satisfied: zipp>=3.1.0 in /usr/local/lib/python3.8/site-packages (from importlib-resources->hdmf>=3.9.0->pynwb) (3.17.0)\n",
      "Requirement already satisfied: ruamel.yaml.clib>=0.2.7 in /usr/local/lib/python3.8/site-packages (from ruamel-yaml>=0.16->hdmf>=3.9.0->pynwb) (0.2.8)\n",
      "\u001b[33mWARNING: Running pip as the 'root' user can result in broken permissions and conflicting behaviour with the system package manager. It is recommended to use a virtual environment instead: https://pip.pypa.io/warnings/venv\u001b[0m\u001b[33m\n",
      "\u001b[0m\n",
      "\u001b[1m[\u001b[0m\u001b[34;49mnotice\u001b[0m\u001b[1;39;49m]\u001b[0m\u001b[39;49m A new release of pip is available: \u001b[0m\u001b[31;49m23.0.1\u001b[0m\u001b[39;49m -> \u001b[0m\u001b[32;49m23.3.1\u001b[0m\n",
      "\u001b[1m[\u001b[0m\u001b[34;49mnotice\u001b[0m\u001b[1;39;49m]\u001b[0m\u001b[39;49m To update, run: \u001b[0m\u001b[32;49mpip install --upgrade pip\u001b[0m\n"
     ]
    }
   ],
   "source": [
    "# !pip install pynwb"
   ]
  },
  {
   "cell_type": "code",
   "execution_count": 2,
   "id": "60529a3d-060c-47bd-a1c2-882c0bed0667",
   "metadata": {
    "pycharm": {
     "name": "#%%\n"
    }
   },
   "outputs": [
    {
     "ename": "ModuleNotFoundError",
     "evalue": "No module named 'microns_to_nwb.convert_microns_to_nwb'",
     "output_type": "error",
     "traceback": [
      "\u001b[0;31m---------------------------------------------------------------------------\u001b[0m",
      "\u001b[0;31mModuleNotFoundError\u001b[0m                       Traceback (most recent call last)",
      "Cell \u001b[0;32mIn[2], line 1\u001b[0m\n\u001b[0;32m----> 1\u001b[0m \u001b[38;5;28;01mfrom\u001b[39;00m \u001b[38;5;21;01mmicrons_to_nwb\u001b[39;00m\u001b[38;5;21;01m.\u001b[39;00m\u001b[38;5;21;01mconvert_microns_to_nwb\u001b[39;00m \u001b[38;5;28;01mimport\u001b[39;00m build_nwb\n\u001b[1;32m      2\u001b[0m \u001b[38;5;28;01mfrom\u001b[39;00m \u001b[38;5;21;01mpynwb\u001b[39;00m \u001b[38;5;28;01mimport\u001b[39;00m NWBHDF5IO\n\u001b[1;32m      4\u001b[0m scan_key \u001b[38;5;241m=\u001b[39m {\u001b[38;5;124m'\u001b[39m\u001b[38;5;124msession\u001b[39m\u001b[38;5;124m'\u001b[39m: \u001b[38;5;241m4\u001b[39m, \u001b[38;5;124m'\u001b[39m\u001b[38;5;124mscan_idx\u001b[39m\u001b[38;5;124m'\u001b[39m: \u001b[38;5;241m7\u001b[39m}\n",
      "\u001b[0;31mModuleNotFoundError\u001b[0m: No module named 'microns_to_nwb.convert_microns_to_nwb'"
     ]
    }
   ],
   "source": [
    "from microns_to_nwb.convert_microns_to_nwb import build_nwb\n",
    "from pynwb import NWBHDF5IO\n",
    "\n",
    "scan_key = {'session': 4, 'scan_idx': 7}\n",
    "\n",
    "nwbfile = build_nwb(scan_key)\n"
   ]
  },
  {
   "cell_type": "code",
   "execution_count": null,
   "id": "7ff2a400",
   "metadata": {
    "collapsed": false,
    "jupyter": {
     "outputs_hidden": false
    },
    "pycharm": {
     "name": "#%%\n"
    }
   },
   "outputs": [],
   "source": [
    "subject_id = \"17797\"\n",
    "nwbfile_path = f\"{subject_id}_{scan_key['session']}_{scan_key['scan_idx']}.nwb\"\n",
    "with NWBHDF5IO(nwbfile_path, \"w\") as io:\n",
    "    io.write(nwbfile)"
   ]
  }
 ],
 "metadata": {
  "kernelspec": {
   "display_name": "Python 3 (ipykernel)",
   "language": "python",
   "name": "python3"
  },
  "language_info": {
   "codemirror_mode": {
    "name": "ipython",
    "version": 3
   },
   "file_extension": ".py",
   "mimetype": "text/x-python",
   "name": "python",
   "nbconvert_exporter": "python",
   "pygments_lexer": "ipython3",
   "version": "3.8.18"
  }
 },
 "nbformat": 4,
 "nbformat_minor": 5
}
